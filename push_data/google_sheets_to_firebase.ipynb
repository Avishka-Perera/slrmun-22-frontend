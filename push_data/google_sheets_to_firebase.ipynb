{
 "cells": [
  {
   "cell_type": "code",
   "execution_count": 1,
   "metadata": {},
   "outputs": [],
   "source": [
    "import pandas as pd"
   ]
  },
  {
   "cell_type": "code",
   "execution_count": 6,
   "metadata": {},
   "outputs": [],
   "source": [
    "county_matrix_link = \"https://docs.google.com/spreadsheets/d/e/2PACX-1vRLSkWnm5rpgxF6UApw13U82G4sYMMe1HemRf3smubuGduOUjaUn9W2FqXgK9ZjaOvof83gYnZ3mMHC/pub?output=xlsx\"\n"
   ]
  },
  {
   "cell_type": "code",
   "execution_count": 64,
   "metadata": {},
   "outputs": [],
   "source": [
    "country_matrix_xls = pd.ExcelFile(county_matrix_link)\n",
    "committees_upload_directory = \"images/committee-logos/\"\n",
    "countries_upload_directory = \"images/country-flags/\""
   ]
  },
  {
   "cell_type": "code",
   "execution_count": 65,
   "metadata": {},
   "outputs": [],
   "source": [
    "committees_df = pd.read_excel(country_matrix_xls, 'committees')\n",
    "\n",
    "committees = {}\n",
    "for committee_row in committees_df.iterrows():\n",
    "    committee_id = committee_row[1].CommitteeId\n",
    "    committee_short_name = committee_row[1].CommitteeShortName\n",
    "    committee_name = committee_row[1].CommitteeName\n",
    "    committee_logo = committee_row[1].CommitteeLogo\n",
    "    committees[committee_id] = {\n",
    "        \"countries\":{},\n",
    "        \"imageUrl\":committees_upload_directory+committee_logo,\n",
    "        \"name\":committee_name,\n",
    "        \"short_name\": committee_short_name\n",
    "        }\n",
    "\n",
    "    countries_df = pd.read_excel(country_matrix_xls, committee_short_name)\n",
    "    for country_row in countries_df.iterrows():\n",
    "        country_id = country_row[1].CountryId\n",
    "        country_name = country_row[1].CountryName\n",
    "        flag_name = country_row[1].FlagName\n",
    "        availability = country_row[1].Availability\n",
    "        committees[committee_id][\"countries\"][country_id] = {\n",
    "            \"availability\":availability,\n",
    "            \"imageUrl\":countries_upload_directory+flag_name,\n",
    "            \"name\":country_name\n",
    "        }"
   ]
  },
  {
   "cell_type": "code",
   "execution_count": null,
   "metadata": {},
   "outputs": [],
   "source": [
    "#################################################################################################################################################################\n",
    "###################################################################  DANGER  ####################################################################################\n",
    "# This will reset the country availability status\n",
    "# Use this only to publish the data in the intial instance\n",
    "# import firebase_admin\n",
    "# from firebase_admin import credentials\n",
    "# from firebase_admin import db\n",
    "\n",
    "# # Fetch the service account key JSON file contents\n",
    "# cred = credentials.Certificate('serviceAccountKey.json')\n",
    "\n",
    "# # Initialize the app with a service account, granting admin privileges\n",
    "# firebase_admin.initialize_app(cred, {\n",
    "#     'databaseURL': 'https://slrmun-22-default-rtdb.asia-southeast1.firebasedatabase.app/'\n",
    "# })\n",
    "# committees_ref = db.reference('committees')\n",
    "# committees_ref.set(committees)\n"
   ]
  },
  {
   "cell_type": "code",
   "execution_count": null,
   "metadata": {},
   "outputs": [],
   "source": []
  }
 ],
 "metadata": {
  "interpreter": {
   "hash": "6936ec82fdf06215b7b4dc607caa0f0413b4a43f89260adf93e5a4dbec299186"
  },
  "kernelspec": {
   "display_name": "Python 3.8.8 64-bit ('base': conda)",
   "language": "python",
   "name": "python3"
  },
  "language_info": {
   "codemirror_mode": {
    "name": "ipython",
    "version": 3
   },
   "file_extension": ".py",
   "mimetype": "text/x-python",
   "name": "python",
   "nbconvert_exporter": "python",
   "pygments_lexer": "ipython3",
   "version": "3.8.8"
  },
  "orig_nbformat": 4
 },
 "nbformat": 4,
 "nbformat_minor": 2
}
